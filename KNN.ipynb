{
 "cells": [
  {
   "cell_type": "markdown",
   "metadata": {},
   "source": [
    "# Using KNN to predict iris"
   ]
  },
  {
   "cell_type": "code",
   "execution_count": 1,
   "metadata": {},
   "outputs": [],
   "source": [
    "import numpy as np\n",
    "import matplotlib.pyplot as plt\n",
    "from sklearn import neighbors, datasets\n",
    "from sklearn.model_selection import train_test_split\n",
    "from sklearn.metrics import accuracy_score"
   ]
  },
  {
   "cell_type": "code",
   "execution_count": 2,
   "metadata": {},
   "outputs": [],
   "source": [
    "iris = datasets.load_iris()\n",
    "iris_X = iris.data\n",
    "iris_Y = iris.target\n",
    "iris_name_label = iris.target_names"
   ]
  },
  {
   "cell_type": "code",
   "execution_count": 3,
   "metadata": {},
   "outputs": [
    {
     "name": "stdout",
     "output_type": "stream",
     "text": [
      "Number of classes 3\n",
      "Number of data points 150\n"
     ]
    }
   ],
   "source": [
    "print(\"Number of classes %d\" % len((np.unique(iris_Y))))\n",
    "print(\"Number of data points %d\" % (len(iris_Y)))"
   ]
  },
  {
   "cell_type": "code",
   "execution_count": 4,
   "metadata": {},
   "outputs": [
    {
     "name": "stdout",
     "output_type": "stream",
     "text": [
      "Samples of class 0: \n",
      "[[5.1 3.5 1.4 0.2]\n",
      " [4.9 3.  1.4 0.2]\n",
      " [4.7 3.2 1.3 0.2]\n",
      " [4.6 3.1 1.5 0.2]\n",
      " [5.  3.6 1.4 0.2]]\n",
      "Samples of class 1: \n",
      "[[7.  3.2 4.7 1.4]\n",
      " [6.4 3.2 4.5 1.5]\n",
      " [6.9 3.1 4.9 1.5]\n",
      " [5.5 2.3 4.  1.3]\n",
      " [6.5 2.8 4.6 1.5]]\n",
      "Samples of class 2: \n",
      "[[6.3 3.3 6.  2.5]\n",
      " [5.8 2.7 5.1 1.9]\n",
      " [7.1 3.  5.9 2.1]\n",
      " [6.3 2.9 5.6 1.8]\n",
      " [6.5 3.  5.8 2.2]]\n"
     ]
    }
   ],
   "source": [
    "X0 = iris_X[iris_Y == 0, :]\n",
    "print(f\"Samples of class 0: \\n{X0[:5, :]}\")\n",
    "\n",
    "X1 = iris_X[iris_Y == 1, :]\n",
    "print(f\"Samples of class 1: \\n{X1[:5, :]}\")\n",
    "\n",
    "X2 = iris_X[iris_Y == 2, :]\n",
    "print(f\"Samples of class 2: \\n{X2[:5, :]}\")\n"
   ]
  },
  {
   "cell_type": "code",
   "execution_count": null,
   "metadata": {},
   "outputs": [],
   "source": []
  },
  {
   "cell_type": "code",
   "execution_count": 5,
   "metadata": {},
   "outputs": [
    {
     "name": "stdout",
     "output_type": "stream",
     "text": [
      "Traning size 100\n",
      "Validation size: 50\n",
      "Samples of first 20 values\n",
      "Predict data:\n",
      " [2 0 1 1 1 1 0 1 1 0 0 1 2 0 1 2 2 1 2 2 0 2 2 1 1 0 0 1 1 0 0 1 0 1 1 0 1\n",
      " 0 0 0 1 2 1 0 2 0 0 1 0 2]\n",
      "Ground truth:\n",
      " [1 0 2 1 1 2 0 1 1 0 0 1 2 0 1 2 2 1 2 2 0 2 2 1 1 0 0 1 1 0 0 1 0 1 1 0 1\n",
      " 0 0 0 1 2 2 0 2 0 0 1 0 2]\n",
      "Accuracy: 92.00%\n"
     ]
    }
   ],
   "source": [
    "x_train, x_test, y_train, y_test = train_test_split(iris_X, iris_Y, test_size=50)\n",
    "\n",
    "print(\"Traning size %d\" % (len(x_train)))\n",
    "print(\"Validation size: %d\" % (len(x_test)))\n",
    "\n",
    "clf = neighbors.KNeighborsClassifier(n_neighbors = 1, p = 2)\n",
    "clf.fit(x_train, y_train)\n",
    "y_pred = clf.predict(x_test)\n",
    "\n",
    "print(\"Samples of first 20 values\")\n",
    "print(f\"Predict data:\\n {y_pred}\")\n",
    "print(f\"Ground truth:\\n {y_test}\")\n",
    "print(\"Accuracy: %.2f%%\" % (accuracy_score(y_pred, y_test) * 100))"
   ]
  },
  {
   "cell_type": "code",
   "execution_count": 8,
   "metadata": {},
   "outputs": [
    {
     "name": "stdout",
     "output_type": "stream",
     "text": [
      "Samples of first 20 values\n",
      "Predict data:\n",
      " [2 0 1 1 1 1 0 1 1 0 0 1 2 0 1 2 2 1 2 2 0 2 2 1 1 0 0 1 1 0 0 1 0 1 1 0 1\n",
      " 0 0 0 1 2 1 0 2 0 0 1 0 2]\n",
      "Ground truth:\n",
      " [1 0 2 1 1 2 0 1 1 0 0 1 2 0 1 2 2 1 2 2 0 2 2 1 1 0 0 1 1 0 0 1 0 1 1 0 1\n",
      " 0 0 0 1 2 2 0 2 0 0 1 0 2]\n",
      "Accuracy: 92.00%\n"
     ]
    }
   ],
   "source": [
    "def weight(distance):\n",
    "    sigma2 = .5\n",
    "    return np.exp(-distance**2)/sigma2\n",
    "    \n",
    "# major voting\n",
    "# The main concept is to find more than 1 data point nearest. They will find the class that is the majority will predict this class. \n",
    "clf = neighbors.KNeighborsClassifier(n_neighbors = 1, p = 2, weights='distance')\n",
    "clf.fit(x_train, y_train)\n",
    "\n",
    "y_pred = clf.predict(x_test)\n",
    "\n",
    "print(\"Samples of first 20 values\")\n",
    "print(f\"Predict data:\\n {y_pred}\")\n",
    "print(f\"Ground truth:\\n {y_test}\")\n",
    "print(\"Accuracy: %.2f%%\" % (accuracy_score(y_pred, y_test) * 100))"
   ]
  },
  {
   "cell_type": "code",
   "execution_count": 7,
   "metadata": {},
   "outputs": [
    {
     "name": "stdout",
     "output_type": "stream",
     "text": [
      "11.832159566199232\n",
      "11.832159566199232\n"
     ]
    }
   ],
   "source": [
    "vector1 = [1, 2, 3, 4, 5, 6, 7]\n",
    "vector2 = [4, 5, 6, 7, 8, 9, 10]\n",
    "\n",
    "def norm(vect1, vect2=[], p=2):\n",
    "    diff = 0\n",
    "    if not vect2:\n",
    "        vect2 = [0]*len(vect1)\n",
    "        \n",
    "    for i in range(len(vect1)):\n",
    "        diff += np.abs((vect2[i] - vect1[i]))**p\n",
    "    return diff**(1/p)\n",
    "\n",
    "print(norm(vect1=vector1, p=2))\n",
    "print(np.linalg.norm(vector1))\n",
    "        "
   ]
  }
 ],
 "metadata": {
  "interpreter": {
   "hash": "bfb4883d108fc92ac768439090a2e92bb9a1f760a54beeecfd6762b5dcd70fe3"
  },
  "kernelspec": {
   "display_name": "Python 3.10.2 64-bit",
   "language": "python",
   "name": "python3"
  },
  "language_info": {
   "codemirror_mode": {
    "name": "ipython",
    "version": 3
   },
   "file_extension": ".py",
   "mimetype": "text/x-python",
   "name": "python",
   "nbconvert_exporter": "python",
   "pygments_lexer": "ipython3",
   "version": "3.10.2"
  },
  "orig_nbformat": 4
 },
 "nbformat": 4,
 "nbformat_minor": 2
}
